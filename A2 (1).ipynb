{
 "cells": [
  {
   "cell_type": "code",
   "execution_count": 12,
   "id": "12e3d6f5-aad5-40d9-8f6d-de8278bcb62b",
   "metadata": {},
   "outputs": [],
   "source": [
    "#Question1-Answer"
   ]
  },
  {
   "cell_type": "code",
   "execution_count": 11,
   "id": "222074ef-2e01-45bd-8c4b-b18476ba3f15",
   "metadata": {},
   "outputs": [
    {
     "name": "stdin",
     "output_type": "stream",
     "text": [
      "enter your marks 80\n"
     ]
    },
    {
     "name": "stdout",
     "output_type": "stream",
     "text": [
      "you have grade B\n"
     ]
    }
   ],
   "source": [
    "marks = int(input(\"enter your marks\"))\n",
    "if marks > 90 :\n",
    "    print(\"you have grade A\")\n",
    "elif marks > 80 or marks <= 90 :\n",
    "    print(\"you have grade B\")\n",
    "elif marks >= 60 and marks <= 80 :\n",
    "    print(\"you have grade C\")\n",
    "else :\n",
    "    print(\"you have grade D\")"
   ]
  },
  {
   "cell_type": "code",
   "execution_count": null,
   "id": "d64423ef-53f3-4a8c-85a4-9e1eeffdffdd",
   "metadata": {},
   "outputs": [],
   "source": [
    "#Question2-Answer"
   ]
  },
  {
   "cell_type": "code",
   "execution_count": 3,
   "id": "0702975d-404b-4b24-90d4-b312bcf3411e",
   "metadata": {},
   "outputs": [
    {
     "name": "stdin",
     "output_type": "stream",
     "text": [
      "enter price  110000\n"
     ]
    },
    {
     "name": "stdout",
     "output_type": "stream",
     "text": [
      "you pay 15% tax\n"
     ]
    }
   ],
   "source": [
    "price = int(input(\"enter price \"))\n",
    "if price > 100000 :\n",
    "    print(\"you pay 15% tax\")\n",
    "elif price >50000 or price <=100000 :\n",
    "    print(\"you pay 10% tax\")\n",
    "else :\n",
    "    print(\"you pay 5% tax\")"
   ]
  },
  {
   "cell_type": "code",
   "execution_count": null,
   "id": "41a8a7d7-5ad3-40ec-bfe0-e0b218d51bfd",
   "metadata": {},
   "outputs": [],
   "source": [
    "#Question3-Answer"
   ]
  },
  {
   "cell_type": "code",
   "execution_count": 10,
   "id": "93f5c2db-ea4d-44eb-ad67-9580e8a7304d",
   "metadata": {},
   "outputs": [
    {
     "name": "stdout",
     "output_type": "stream",
     "text": [
      "Enter one city from Delhi,Agra,Jaipur with first capital letter:\n"
     ]
    },
    {
     "name": "stdin",
     "output_type": "stream",
     "text": [
      " Delhi\n"
     ]
    },
    {
     "name": "stdout",
     "output_type": "stream",
     "text": [
      "Red Fort\n"
     ]
    }
   ],
   "source": [
    "print(\"Enter one city from Delhi,Agra,Jaipur with first capital letter:\")\n",
    "city = input()\n",
    "\n",
    "if city == \"Delhi\" or city == \"Agra\" or city == \"Jaipur\":\n",
    "    if city == \"Delhi\":\n",
    "        print(\"Red Fort\")\n",
    "    if city == \"Agra\":\n",
    "        print(\"Taj Mahal\")\n",
    "    if city == \"Jaipur\":\n",
    "        print(\"Jal Mahal\")\n",
    "else :\n",
    "    print(\"city not covered\")\n",
    "\n",
    "          "
   ]
  },
  {
   "cell_type": "code",
   "execution_count": 13,
   "id": "63dbe093-c939-4b81-80d7-db6e844d6cec",
   "metadata": {},
   "outputs": [],
   "source": [
    "#Question4-Answer"
   ]
  },
  {
   "cell_type": "code",
   "execution_count": 15,
   "id": "28792cb7-52f0-4977-ad48-527f3c664868",
   "metadata": {},
   "outputs": [
    {
     "name": "stdin",
     "output_type": "stream",
     "text": [
      " 3\n"
     ]
    },
    {
     "name": "stdout",
     "output_type": "stream",
     "text": [
      "The number can be divided 1 time only\n"
     ]
    }
   ],
   "source": [
    "n = int(input())\n",
    "\n",
    "if n % 3 != 0:\n",
    "    print(\"Enter number is not divisible by 3\")\n",
    "    \n",
    "if n % 3 == 0 and n > 10:\n",
    "    count = 0\n",
    "    while (n>10):\n",
    "        n = n/3\n",
    "        count += 1\n",
    "        \n",
    "    print(\"The number can be divided \",count,\"times\")\n",
    "if n % 3 == 0 and n < 10 and n > 0:\n",
    "    print(\"The number can be divided 1 time only\")"
   ]
  },
  {
   "cell_type": "code",
   "execution_count": 16,
   "id": "ed1082b4-6ad8-46f0-bb70-a0a9ffd16d60",
   "metadata": {},
   "outputs": [],
   "source": [
    "#Question5-Answer"
   ]
  },
  {
   "cell_type": "code",
   "execution_count": 1,
   "id": "f032e516-fae8-4479-ab97-fba0d07d0305",
   "metadata": {},
   "outputs": [
    {
     "name": "stdout",
     "output_type": "stream",
     "text": [
      "8\n",
      "9\n",
      "10\n"
     ]
    }
   ],
   "source": [
    "#While loop is used to run a block code until a certain condition is met.Here , A while loop evaluates the condition if the condition evaluates to True ,the code inside the while loop is executed.\n",
    "#Example\n",
    "a = 8\n",
    "\n",
    "while a <= 10:\n",
    "    print(a)\n",
    "    a = a + 1\n"
   ]
  },
  {
   "cell_type": "code",
   "execution_count": 2,
   "id": "5f3cba7c-35b9-4d0e-89f8-6e4af5fa0edf",
   "metadata": {},
   "outputs": [],
   "source": [
    "#Question6-Answer"
   ]
  },
  {
   "cell_type": "code",
   "execution_count": 4,
   "id": "9c14d9ec-4813-4631-bdea-6716f8a367b0",
   "metadata": {},
   "outputs": [
    {
     "name": "stdin",
     "output_type": "stream",
     "text": [
      "enter your number 2\n"
     ]
    },
    {
     "name": "stdout",
     "output_type": "stream",
     "text": [
      "2 * 1 = 2\n",
      "2 * 2 = 4\n",
      "2 * 3 = 6\n",
      "2 * 4 = 8\n",
      "2 * 5 = 10\n",
      "2 * 6 = 12\n",
      "2 * 7 = 14\n",
      "2 * 8 = 16\n",
      "2 * 9 = 18\n",
      "2 * 10 = 20\n"
     ]
    }
   ],
   "source": [
    "#1-print table\n",
    "number = int(input(\"enter your number\"))\n",
    "i = 1 \n",
    "\n",
    "while i <= 10:\n",
    "    result = number *i\n",
    "    print(number,\"*\",i,\"=\",result)\n",
    "    i = i+1\n",
    "              "
   ]
  },
  {
   "cell_type": "code",
   "execution_count": 5,
   "id": "084ed23b-308e-4514-8350-f9e06832b434",
   "metadata": {},
   "outputs": [
    {
     "name": "stdin",
     "output_type": "stream",
     "text": [
      "enter your number 23\n"
     ]
    },
    {
     "name": "stdout",
     "output_type": "stream",
     "text": [
      "0\n",
      "1\n",
      "1\n",
      "2\n",
      "3\n",
      "5\n",
      "8\n",
      "13\n",
      "21\n",
      "34\n",
      "55\n",
      "89\n",
      "144\n",
      "233\n",
      "377\n",
      "610\n",
      "987\n",
      "1597\n",
      "2584\n",
      "4181\n",
      "6765\n",
      "10946\n",
      "17711\n"
     ]
    }
   ],
   "source": [
    "#2-Fibonnaci series\n",
    "number = int(input(\"enter your number\"))\n",
    "a , b = 0, 1 \n",
    "counter = 0 \n",
    "while counter < number:\n",
    "    print(a)\n",
    "    c = a +b\n",
    "    a = b\n",
    "    b = c\n",
    "    counter = counter + 1\n",
    "    "
   ]
  },
  {
   "cell_type": "code",
   "execution_count": 6,
   "id": "8c0c773e-ac57-4681-ace2-af6d300da72c",
   "metadata": {},
   "outputs": [
    {
     "name": "stdin",
     "output_type": "stream",
     "text": [
      "enter your number 5\n"
     ]
    },
    {
     "data": {
      "text/plain": [
       "120"
      ]
     },
     "execution_count": 6,
     "metadata": {},
     "output_type": "execute_result"
    }
   ],
   "source": [
    "#3-Factorial\n",
    "number = int(input(\"enter your number\"))\n",
    "factorial = 1\n",
    "while number > 0:\n",
    "    factorial = factorial * number\n",
    "    number = number - 1\n",
    "factorial    \n",
    "    "
   ]
  },
  {
   "cell_type": "code",
   "execution_count": 7,
   "id": "b7e8d815-7e63-4d68-b896-01679ffe6c8b",
   "metadata": {},
   "outputs": [],
   "source": [
    "#Question7-Answer"
   ]
  },
  {
   "cell_type": "code",
   "execution_count": null,
   "id": "d53ec279-10a7-43e0-afe3-1131956b407f",
   "metadata": {},
   "outputs": [],
   "source": [
    "l = [10,9,8,7,6,5,4,3,2,1]"
   ]
  },
  {
   "cell_type": "code",
   "execution_count": 6,
   "id": "86bb7e3a-9461-4959-81d6-05f5fe321784",
   "metadata": {},
   "outputs": [
    {
     "name": "stdout",
     "output_type": "stream",
     "text": [
      "10\n",
      "9\n",
      "8\n",
      "7\n",
      "6\n",
      "5\n",
      "4\n",
      "3\n",
      "2\n",
      "1\n"
     ]
    }
   ],
   "source": [
    "i = 10\n",
    "while i > 0 :\n",
    "    print(i)\n",
    "    i -= 1"
   ]
  },
  {
   "cell_type": "code",
   "execution_count": null,
   "id": "ea47ec9c-c278-4501-8424-23e77caf00e0",
   "metadata": {},
   "outputs": [],
   "source": []
  },
  {
   "cell_type": "code",
   "execution_count": null,
   "id": "83cf45b6-040d-47f5-9611-0328549fa467",
   "metadata": {},
   "outputs": [],
   "source": []
  }
 ],
 "metadata": {
  "kernelspec": {
   "display_name": "Python 3 (ipykernel)",
   "language": "python",
   "name": "python3"
  },
  "language_info": {
   "codemirror_mode": {
    "name": "ipython",
    "version": 3
   },
   "file_extension": ".py",
   "mimetype": "text/x-python",
   "name": "python",
   "nbconvert_exporter": "python",
   "pygments_lexer": "ipython3",
   "version": "3.10.8"
  }
 },
 "nbformat": 4,
 "nbformat_minor": 5
}
